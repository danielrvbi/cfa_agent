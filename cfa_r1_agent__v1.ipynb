{
 "cells": [
  {
   "cell_type": "code",
   "execution_count": 12,
   "id": "a71c99ac-4d6d-4621-99ba-e685a650f839",
   "metadata": {},
   "outputs": [],
   "source": [
    "# ---[ 1. Imports ]---\n",
    "import os\n",
    "import faiss\n",
    "import numpy as np\n",
    "import sqlite3\n",
    "import ollama\n",
    "from sentence_transformers import SentenceTransformer\n",
    "from langgraph.graph import StateGraph, START, END\n",
    "from typing import TypedDict, Annotated, Optional\n",
    "from langgraph.checkpoint.sqlite import SqliteSaver\n",
    "from langgraph.store.memory import InMemoryStore\n",
    "import tqdm\n",
    "\n"
   ]
  },
  {
   "cell_type": "code",
   "execution_count": 2,
   "id": "3078fc10-c391-49b8-9aa9-75c9aa270f42",
   "metadata": {},
   "outputs": [],
   "source": [
    "\n",
    "# ---[ 2. Config ]---\n",
    "DB_PATH = os.path.abspath(\"cfa_agent_memory.db\")  # ensure absolute path\n",
    "INDEX_PATH = \"cfa_vector.index\"\n",
    "TEXT_DUMP_PATH = \"cfa_text_dump.txt\"\n",
    "MODEL = \"all-MiniLM-L6-v2\"\n",
    "EPUB_DIR = \"cfa_epub\""
   ]
  },
  {
   "cell_type": "code",
   "execution_count": null,
   "id": "362f7ed7-0e3a-477c-9eb8-fcde81260d68",
   "metadata": {},
   "outputs": [],
   "source": []
  },
  {
   "cell_type": "code",
   "execution_count": 3,
   "id": "a1cf8355-84df-4682-b813-3b719895fd02",
   "metadata": {},
   "outputs": [],
   "source": [
    "\n",
    "# ---[ 5. FAISS Retriever ]---\n",
    "def load_faiss_retriever():\n",
    "    index = faiss.read_index(INDEX_PATH)\n",
    "    with open(TEXT_DUMP_PATH, \"r\", encoding=\"utf-8\") as f:\n",
    "        documents = f.read().split(\"\\n\")\n",
    "    model = SentenceTransformer(MODEL)\n",
    "\n",
    "    def retrieve(query, top_k=5):\n",
    "        q_emb = model.encode([query])\n",
    "        D, I = index.search(np.array(q_emb), top_k)\n",
    "        return [documents[i] for i in I[0] if i < len(documents)]\n",
    "\n",
    "    return retrieve"
   ]
  },
  {
   "cell_type": "code",
   "execution_count": 4,
   "id": "0df4780a-555e-465a-8c9c-fc7974ebfcdc",
   "metadata": {},
   "outputs": [],
   "source": [
    "# ---[ 5. FAISS Retriever ]---\n",
    "def load_faiss_retriever():\n",
    "    index = faiss.read_index(INDEX_PATH)\n",
    "    with open(TEXT_DUMP_PATH, \"r\", encoding=\"utf-8\") as f:\n",
    "        documents = f.read().split(\"\\n\")\n",
    "    model = SentenceTransformer(MODEL)\n",
    "\n",
    "    def retrieve(query, top_k=1):\n",
    "        q_emb = model.encode([query])\n",
    "        D, I = index.search(np.array(q_emb), top_k)\n",
    "        return [documents[i] for i in I[0] if i < len(documents)]\n",
    "\n",
    "    return retrieve\n",
    "\n",
    "# ---[ 6. LangGraph RAG Flow ]---\n",
    "class State(TypedDict):\n",
    "    query: str\n",
    "    retrieved_docs: Annotated[list[str], lambda x, y: x + y]\n",
    "    answer: str\n",
    "\n",
    "def retrieve_node(state: State) -> dict:\n",
    "    retriever = load_faiss_retriever()\n",
    "    docs = retriever(state[\"query\"])\n",
    "    return {\"retrieved_docs\": docs}\n",
    "\n",
    "def generate_node(state: State) -> dict:\n",
    "    context = \"\\n\\n\".join(state[\"retrieved_docs\"])\n",
    "    prompt = f\"Answer based only on the following CFA material:\\n\\n{context}\\n\\nQuestion: {state['query']}\"\n",
    "    response = ollama.chat(model='deepseek-r1:1.5b', messages=[\n",
    "        {\"role\": \"user\", \"content\": prompt}\n",
    "    ])\n",
    "    return {\"answer\": response[\"message\"][\"content\"]}\n",
    "\n"
   ]
  },
  {
   "cell_type": "code",
   "execution_count": 5,
   "id": "c1e9d9bd-ee36-401f-9c01-628d39736fb2",
   "metadata": {},
   "outputs": [
    {
     "name": "stdout",
     "output_type": "stream",
     "text": [
      "CPU times: user 276 ms, sys: 328 ms, total: 604 ms\n",
      "Wall time: 1.98 s\n"
     ]
    }
   ],
   "source": [
    "%%time\n",
    "\n",
    "fun = load_faiss_retriever()"
   ]
  },
  {
   "cell_type": "code",
   "execution_count": 6,
   "id": "4ab4cada-1b3e-4e40-a0a7-c2685d98019c",
   "metadata": {},
   "outputs": [
    {
     "data": {
      "text/plain": [
       "['2.1. The Lognormal Distribution']"
      ]
     },
     "execution_count": 6,
     "metadata": {},
     "output_type": "execute_result"
    }
   ],
   "source": [
    "res = fun(\"Lognormal PDF and Tax\")\n",
    "res"
   ]
  },
  {
   "cell_type": "code",
   "execution_count": null,
   "id": "8088238c-63b1-44c0-a617-88e03c221407",
   "metadata": {},
   "outputs": [],
   "source": []
  },
  {
   "cell_type": "code",
   "execution_count": null,
   "id": "4b24635f-7ad1-4009-912a-5bd0d15d96b4",
   "metadata": {},
   "outputs": [],
   "source": []
  },
  {
   "cell_type": "code",
   "execution_count": 7,
   "id": "2d820c00-e02b-4e70-88c8-dbd331782bb0",
   "metadata": {},
   "outputs": [],
   "source": [
    "# ---[ 7. Graph Setup ]---\n",
    "sqlite_connection = sqlite3.connect(DB_PATH, uri=True, check_same_thread=False)\n",
    "checkpointer = SqliteSaver(sqlite_connection)\n",
    "store = InMemoryStore()\n",
    "\n",
    "\n",
    "workflow = StateGraph(State)\n",
    "workflow.add_node(\"retrieve\", retrieve_node)\n",
    "workflow.add_node(\"generate\", generate_node)\n",
    "workflow.set_entry_point(\"retrieve\")\n",
    "workflow.add_edge(\"retrieve\", \"generate\")\n",
    "workflow.add_edge(\"generate\", END)\n",
    "graph = workflow.compile(checkpointer=checkpointer, store=store)"
   ]
  },
  {
   "cell_type": "code",
   "execution_count": null,
   "id": "37c999ea-b293-47b0-ac2c-f30bd5d7922d",
   "metadata": {},
   "outputs": [],
   "source": []
  },
  {
   "cell_type": "code",
   "execution_count": 8,
   "id": "923258d0-21ef-41bf-a85c-8170950c058d",
   "metadata": {},
   "outputs": [],
   "source": [
    "user_query = \"\"\"\n",
    "2. You have developed a set of criteria for evaluating distressed credits. Com-\n",
    "panies that do not receive a passing score are classed as likely to go bankrupt\n",
    "within 12 months. You gathered the following information when validating\n",
    "the criteria:\n",
    "■ Forty percent of the companies to which the test is administered will\n",
    "go bankrupt within 12 months: P(non-survivor) = 0.40.\n",
    "■ Fifty-five percent of the companies to which the test is administered\n",
    "pass it: P(pass test) = 0.55.\n",
    "■ The probability that a company will pass the test given that it will sub-\n",
    "sequently survive 12 months, is 0.85: P(pass test | survivor) = 0.85.\n",
    "Using the information validating your criteria, calculate the following:\n",
    "A. B. What is P(pass test | non-survivor)?\n",
    "Using Bayes’ formula, calculate the probability that a company is a\n",
    "survivor, given that it passes the test; that is, calculate P(survivor | pass\n",
    "test).\n",
    "C. What is the probability that a company is a non-survivor, given that it\n",
    "fails the test?\n",
    "D. Is the test effective?\n",
    "\"\"\""
   ]
  },
  {
   "cell_type": "code",
   "execution_count": 9,
   "id": "0be20bb1-e620-423e-89d3-cacc3c40a1b0",
   "metadata": {},
   "outputs": [
    {
     "name": "stdout",
     "output_type": "stream",
     "text": [
      "CPU times: user 228 ms, sys: 322 ms, total: 550 ms\n",
      "Wall time: 18.7 s\n"
     ]
    }
   ],
   "source": [
    "%%time\n",
    "\n",
    "\n",
    "result = graph.invoke({\"query\": user_query}, config={\"configurable\": {\"thread_id\": \"cfa_session_01\", \"user_id\": \"daniel\"}})"
   ]
  },
  {
   "cell_type": "code",
   "execution_count": 10,
   "id": "4356e250-05a5-47c5-8303-13d24f487a79",
   "metadata": {},
   "outputs": [
    {
     "name": "stdout",
     "output_type": "stream",
     "text": [
      "\n",
      "Answer:\n",
      " <think>\n",
      "Okay, let's see. I need to solve this question about calculating probabilities related to the distressed credit criteria using Bayes' formula. Hmm, I remember Bayes' theorem from my studies, but I should probably take it step by step.\n",
      "\n",
      "First, the problem gives some information:\n",
      "\n",
      "- 40% of companies go bankrupt within a year (P(non-survivor) = 0.40).\n",
      "- 55% pass the test (P(pass test) = 0.55).\n",
      "- The probability that a company will pass given it survives is 85% (P(pass test | survivor) = 0.85).\n",
      "\n",
      "The questions are A, B, C, and D.\n",
      "\n",
      "Starting with question A: What's P(pass test | non-survivor)? So this is the probability of passing the test given that the company doesn't survive. I don't have direct information for this. Maybe it can be derived from other probabilities?\n",
      "\n",
      "I know that the total probability of passing is 0.55, which includes both survivors and non-surpliers. Let me define some variables to clarify.\n",
      "\n",
      "Let S = Survive (survivor), not S = doesn't survive (non-survivor).\n",
      "\n",
      "Given:\n",
      "P(S) = 0.60 (since 40% go bankrupt, so 60% survive)\n",
      "P(not S) = 0.40\n",
      "P(pass test | S) = 0.85\n",
      "P(pass test) = 0.55\n",
      "\n",
      "We need P(pass test | not S). Let's denote this as P(Pass | Non).\n",
      "\n",
      "Using the law of total probability, P(pass test) = P(pass test | S)*P(S) + P(pass test | non-S)*P(non-S)\n",
      "\n",
      "Plugging in numbers:\n",
      "\n",
      "0.55 = 0.85*0.60 + P(Pass | non-S)*0.40\n",
      "\n",
      "Calculating 0.85*0.60: that's 0.51.\n",
      "\n",
      "So, 0.55 = 0.51 + (P_pass_non_S * 0.40)\n",
      "\n",
      "Subtracting 0.51 from both sides: 0.04 = 0.40 * P_pass_non_S\n",
      "\n",
      "Divide both sides by 0.40: P_pass_non_S = 0.04 / 0.40 = 0.10.\n",
      "\n",
      "So, A is 10%.\n",
      "\n",
      "Moving on to B: What's P(Survivor | pass test)? This requires Bayes' theorem. The formula is:\n",
      "\n",
      "P(S | Pass) = [P(Pass | S) * P(S)] / P(Pass)\n",
      "\n",
      "We have:\n",
      "P(Pass | S) = 0.85\n",
      "P(S) = 0.60\n",
      "P(Pass) = 0.55\n",
      "\n",
      "So plug in the numbers:\n",
      "\n",
      "P(S | Pass) = (0.85 * 0.60) / 0.55\n",
      "\n",
      "Calculating numerator: 0.85*0.60 = 0.51\n",
      "\n",
      "Then, 0.51 / 0.55 ≈ 0.9273 or approximately 92.73%.\n",
      "\n",
      "So B is about 92.73%.\n",
      "\n",
      "Next, question C: What's P(non-survivor | fail test)? That's the probability of non-surviving given failing the test.\n",
      "\n",
      "Again, using Bayes' theorem here as well. But we can think in terms of not surviving and failing.\n",
      "\n",
      "P(Fail Test | Non-S) would be the same as 1 - P(Pass Test | Non-S), which we calculated earlier as 0.90.\n",
      "\n",
      "Alternatively, using Bayes:\n",
      "\n",
      "P(Non-S | Fail Test) = [P(Fail Test | Non-S)*P(Non-S)] / P(Fail Test)\n",
      "\n",
      "We know:\n",
      "P(Fail Test) = 1 - P(Pass Test) = 1 - 0.55 = 0.45\n",
      "\n",
      "Assuming we don't have direct P(Fail Test | Non-S), but from the calculation above, since P(Pass Test | Non-S) is 0.90 (so failing would be 0.10).\n",
      "\n",
      "But let me confirm:\n",
      "\n",
      "Alternatively, if I use Bayes with:\n",
      "\n",
      "P(Non-S | Fail Test) = [P(Fail Test | Non-S)*P(Non-S)] / P(Fail Test)\n",
      "\n",
      "We need to find P(Fail Test). We can compute it as:\n",
      "\n",
      "P(Fail Test | S)*P(S) + P(Fail Test | non-S)*P(non-S)\n",
      "\n",
      "From previous calculations, we have that P(Pass Test | non-S) = 0.90, so failing would be 1 - 0.90 = 0.10.\n",
      "\n",
      "Thus,\n",
      "\n",
      "P(Fail Test) = (0.85*0.60) + (0.10*0.40) = 0.51 + 0.04 = 0.55, which checks out since the total P(Pass Test) is given as 0.55.\n",
      "\n",
      "So now, computing P(Non-S | Fail Test):\n",
      "\n",
      "P(Non-S | Fail Test) = [0.10 * 0.40] / 0.55\n",
      "\n",
      "Calculating numerator: 0.10*0.40 = 0.04\n",
      "\n",
      "Then, 0.04 / 0.55 ≈ 0.0727 or about 7.27%.\n",
      "\n",
      "So C is approximately 7.27%.\n",
      "\n",
      "Finally, question D: Is the test effective?\n",
      "\n",
      "An effective test would have a high probability of correctly classifying the companies into survivors and non-survivors.\n",
      "\n",
      "Looking at B, which is ~92.73%, it's quite high. So passing the test significantly reduces the probability of being a survivor to about 7.27% of those who failed. That seems like a strong indicator that the test works well in distinguishing between survivors and non-survivors. Therefore, I would say yes, the test is effective.\n",
      "</think>\n",
      "\n",
      "A. **P(pass test | non-survivor)**: The probability that a company passes the test given it doesn't survive within 12 months is calculated using the law of total probability:\n",
      "\n",
      "\\[ P(\\text{Pass} | \\text{Non}) = \\frac{P(\\text{Pass and Non})}{P(\\text{Non})} = \\frac{P(\\text{Pass} | \\text{Survivor}) \\times P(\\text{Survivor}) + P(\\text{Pass} | \\text{Non Survivor}) \\times P(\\text{Non Survivor}) - 0.55}{0.40} \\]\n",
      "\n",
      "But from the earlier calculation, we found it to be **10%**.\n",
      "\n",
      "B. **P(survivor | pass test)**: Using Bayes' theorem:\n",
      "\n",
      "\\[ P(\\text{Survivor} | \\text{Pass Test}) = \\frac{P(\\text{Pass} | \\text{Survivor}) \\times P(\\text{Survivor})}{P(\\text{Pass})} \\]\n",
      "\n",
      "Plugging in the numbers:\n",
      "\n",
      "\\[ P(\\text{Survivor} | \\text{Pass Test}) = \\frac{0.85 \\times 0.60}{0.55} \\approx 92.73\\% \\]\n",
      "\n",
      "C. **P(non-survivor | fail test)**: Using Bayes' theorem:\n",
      "\n",
      "\\[ P(\\text{Non Survivor} | \\text{Fail Test}) = \\frac{P(\\text{Fail} | \\text{Non Survivor}) \\times P(\\text{Non Survivor})}{P(\\text{Fail})} \\]\n",
      "\n",
      "Where \\( P(\\text{Fail}) = 1 - P(\\text{Pass}) = 0.45 \\) and \\( P(\\text{Fail} | \\text{Non Survivor}) = 0.10 \\):\n",
      "\n",
      "\\[ P(\\text{Non Survivor} | \\text{Fail Test}) = \\frac{0.10 \\times 0.40}{0.55} \\approx 7.27\\% \\]\n",
      "\n",
      "D. **Effectiveness of the test**: The test is effective because passing it significantly reduces the probability of being a survivor (92.73%) compared to non-survivors (7.27%). This high accuracy indicates that the test performs well in classifying companies into survivors and non-survivors.\n",
      "\n",
      "**Final Answers:**\n",
      "\n",
      "A. **10%**  \n",
      "B. **92.73%**  \n",
      "C. **7.27%**  \n",
      "D. **Yes, it is effective.**\n"
     ]
    }
   ],
   "source": [
    "print(\"\\nAnswer:\\n\", result[\"answer\"])"
   ]
  },
  {
   "cell_type": "code",
   "execution_count": 11,
   "id": "e9051171-2d12-42e8-b621-cb2f87e351c8",
   "metadata": {},
   "outputs": [
    {
     "data": {
      "text/plain": [
       "2"
      ]
     },
     "execution_count": 11,
     "metadata": {},
     "output_type": "execute_result"
    }
   ],
   "source": [
    "2"
   ]
  },
  {
   "cell_type": "code",
   "execution_count": null,
   "id": "cbd2f889-b3c4-47d6-a214-2435764bb29a",
   "metadata": {},
   "outputs": [],
   "source": []
  }
 ],
 "metadata": {
  "kernelspec": {
   "display_name": "Python 3 (ipykernel)",
   "language": "python",
   "name": "python3"
  },
  "language_info": {
   "codemirror_mode": {
    "name": "ipython",
    "version": 3
   },
   "file_extension": ".py",
   "mimetype": "text/x-python",
   "name": "python",
   "nbconvert_exporter": "python",
   "pygments_lexer": "ipython3",
   "version": "3.11.5"
  }
 },
 "nbformat": 4,
 "nbformat_minor": 5
}
