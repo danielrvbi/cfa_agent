{
 "cells": [
  {
   "cell_type": "code",
   "execution_count": 175,
   "id": "a71c99ac-4d6d-4621-99ba-e685a650f839",
   "metadata": {},
   "outputs": [],
   "source": [
    "# === Standard Library ===\n",
    "import json\n",
    "import os\n",
    "import sys\n",
    "from typing import Any, Dict, List, Optional, Union, TypedDict, Annotated\n",
    "from collections import defaultdict\n",
    "\n",
    "# === Data Handling ===\n",
    "import pandas as pd\n",
    "import re\n",
    "\n",
    "# === NLP Models ===\n",
    "from sentence_transformers import SentenceTransformer, util\n",
    "from transformers import AutoTokenizer, AutoModel\n",
    "\n",
    "# === LangGraph Core ===\n",
    "from langgraph.graph import StateGraph, START, END\n",
    "from langgraph.types import interrupt, Command\n",
    "from langgraph.checkpoint.memory import MemorySaver\n",
    "from langgraph.graph.message import add_messages\n",
    "from langchain_core.messages import HumanMessage, SystemMessage, AIMessage\n",
    "\n",
    "# === LangChain & LLM ===\n",
    "from langchain_core.prompts import ChatPromptTemplate\n",
    "from langchain_ollama import ChatOllama\n",
    "import ollama  # used directly in custom LLM calls\n",
    "\n",
    "# === Validation ===\n",
    "from pydantic import BaseModel\n"
   ]
  },
  {
   "cell_type": "code",
   "execution_count": 220,
   "id": "546f4b33-d3d1-4feb-b459-eff5d132968d",
   "metadata": {},
   "outputs": [],
   "source": [
    "from cfa_parsinv_v3 import *\n",
    "\n",
    "def get_node_by_path(root: BookNode, path: str) -> BookNode:\n",
    "    node = root\n",
    "    for part in path.split(\" -> \"):\n",
    "        node = node[part]\n",
    "    return node\n",
    "\n",
    "\n",
    "flat_sections = cfa_book.flatten_paths(levels=(3, 4))\n",
    "\n",
    "# get_node_by_path(cfa_book,res[0]).content\n",
    "\n",
    "\n",
    "\n",
    "def find_relevant_sections(\n",
    "    query: str,\n",
    "    tree: BookNode,\n",
    "    top_k: int = 10,\n",
    "    score_threshold1: float = 0.5,\n",
    "    score_threshold2: float = 0.3,\n",
    "    model_name: str = 'all-MiniLM-L6-v2',\n",
    "    return_content: bool = False\n",
    ") -> Union[List[str], Dict[str, str]]:\n",
    "    \"\"\"\n",
    "    Searches level-3 & level-4 headings by semantic similarity,\n",
    "    falling back to level-2 (modules) if nothing passes threshold1.\n",
    "\n",
    "    If return_content=False: returns list of paths.\n",
    "    If return_content=True: returns dict { path: full_text }.\n",
    "    \"\"\"\n",
    "    # 0) prepare flattened paths\n",
    "    flat_sec = tree.flatten_paths(levels=(3,4))\n",
    "    flat_mod = tree.flatten_paths(levels=(2,))\n",
    "\n",
    "    # 1) encode\n",
    "    model = SentenceTransformer(model_name, device='mps')\n",
    "    q_emb = model.encode(query, convert_to_tensor=True)\n",
    "    sec_embs = model.encode(flat_sec, convert_to_tensor=True)\n",
    "\n",
    "    # 2) chapter/subchapter matching\n",
    "    scores = util.cos_sim(q_emb, sec_embs)[0]\n",
    "    hits = sorted(\n",
    "        [(i, float(s)) for i, s in enumerate(scores) if float(s) >= score_threshold1],\n",
    "        key=lambda x: x[1], reverse=True\n",
    "    )[:top_k]\n",
    "\n",
    "    if hits:\n",
    "        section_keys = [ flat_sec[i] for i, _ in hits ]\n",
    "    else:\n",
    "        # fallback to module‐level\n",
    "        mod_embs = model.encode(flat_mod, convert_to_tensor=True)\n",
    "        scores = util.cos_sim(q_emb, mod_embs)[0]\n",
    "        hits = sorted(\n",
    "            [(i, float(s)) for i, s in enumerate(scores) if float(s) >= score_threshold2],\n",
    "            key=lambda x: x[1], reverse=True\n",
    "        )[: top_k + 2]\n",
    "        section_keys = [ flat_mod[i] for i, _ in hits ]\n",
    "\n",
    "    if not return_content:\n",
    "        return section_keys\n",
    "\n",
    "    # build path->content map\n",
    "    return {\n",
    "        path: get_node_by_path(tree, path).content\n",
    "        for path in section_keys\n",
    "    }\n"
   ]
  },
  {
   "cell_type": "code",
   "execution_count": 215,
   "id": "efcabb40-8737-4d3f-bfe5-a79c4b16cc75",
   "metadata": {},
   "outputs": [],
   "source": [
    "path = \"/Users/danielrubibreton/Desktop/PythonStuff/hface/all-MiniLM-L6-v2\""
   ]
  },
  {
   "cell_type": "code",
   "execution_count": 216,
   "id": "ac749648-d74a-433a-bae0-396e0e3c5649",
   "metadata": {},
   "outputs": [],
   "source": [
    "tokenizer = AutoTokenizer.from_pretrained(path)\n",
    "model = AutoModel.from_pretrained(path)"
   ]
  },
  {
   "cell_type": "code",
   "execution_count": null,
   "id": "5ec76f18-7163-4502-9599-cccf2bc25c11",
   "metadata": {},
   "outputs": [],
   "source": []
  },
  {
   "cell_type": "code",
   "execution_count": 217,
   "id": "5df4a425-853e-4367-9f8e-cb9a58245873",
   "metadata": {},
   "outputs": [],
   "source": []
  },
  {
   "cell_type": "code",
   "execution_count": 219,
   "id": "072829a4-fd9c-4442-b1d6-c35f126d5f14",
   "metadata": {
    "scrolled": true
   },
   "outputs": [
    {
     "name": "stdout",
     "output_type": "stream",
     "text": [
      "CPU times: user 651 ms, sys: 400 ms, total: 1.05 s\n",
      "Wall time: 2.31 s\n"
     ]
    },
    {
     "data": {
      "text/plain": [
       "['1. Quantitative Methods -> 10. Simple Linear Regress -> 2. Functional Forms for Simple Linear Regression -> 1. The Log-Lin Model',\n",
       " '1. Quantitative Methods -> 10. Simple Linear Regress -> 2. Functional Forms for Simple Linear Regression -> 2. The Lin-Log Model',\n",
       " '1. Quantitative Methods -> 10. Simple Linear Regress -> 2. Functional Forms for Simple Linear Regression -> 3. The Log-Log Model']"
      ]
     },
     "execution_count": 219,
     "metadata": {},
     "output_type": "execute_result"
    }
   ],
   "source": [
    "%%time\n",
    "res = find_relevant_sections(\"The Log-Lin Model\", cfa_book)\n",
    "res"
   ]
  },
  {
   "cell_type": "code",
   "execution_count": null,
   "id": "eb9f9767-1779-4546-b995-3df1d134ad43",
   "metadata": {},
   "outputs": [],
   "source": []
  },
  {
   "cell_type": "code",
   "execution_count": 14,
   "id": "c9af5a9b-4288-4535-827e-4b1e70d85394",
   "metadata": {},
   "outputs": [],
   "source": [
    "class LocalLLM:\n",
    "    def __init__(\n",
    "        self,\n",
    "        model: str = \"deepseek-r1:1.5b\",\n",
    "        temperature: float = 0,\n",
    "        max_tokens: Optional[int] = None,\n",
    "    ):\n",
    "        self.model = model\n",
    "        self.temperature = temperature\n",
    "\n",
    "\n",
    "    def invoke(self, prompt: str) -> str:\n",
    "        messages = [{\"role\": \"user\", \"content\": prompt}]\n",
    "        response = ollama.chat(\n",
    "            model=self.model,\n",
    "            messages=messages,\n",
    "            options={\n",
    "                \"temperature\": self.temperature,\n",
    "                \"num_thread\": 10,\n",
    "                \"low_vram\": False,\n",
    "            } \n",
    "        )\n",
    "        return response[\"message\"][\"content\"].split(\"</think>\")[-1].strip(\"\\n\")\n"
   ]
  },
  {
   "cell_type": "code",
   "execution_count": 10,
   "id": "82bb1a6b-af71-4957-84be-996f073fd638",
   "metadata": {},
   "outputs": [],
   "source": [
    "llm = LocalLLM()"
   ]
  },
  {
   "cell_type": "code",
   "execution_count": 22,
   "id": "69534908-4c36-4fff-81ef-72e999326030",
   "metadata": {},
   "outputs": [],
   "source": [
    "\n",
    "# -------------------------------------------------------------------------\n",
    "# 2. GraphState definition\n",
    "# -------------------------------------------------------------------------\n",
    "class GraphState(TypedDict):\n",
    "    query: str\n",
    "    retrieved_sections: Optional[Any]       # Will hold either List[str] or str\n",
    "    response: Optional[str]\n",
    "    messages: Annotated[List[Dict[str, str]], add_messages]\n",
    "    goto: Optional[str]          # Used by the confirm node to drive conditional edges\n",
    "    context: str\n",
    "\n",
    "\n",
    "# -------------------------------------------------------------------------\n",
    "# 3. Retrieval node (unchanged)\n",
    "# -------------------------------------------------------------------------\n",
    "\n",
    "def user_query_node(state: GraphState) -> GraphState:\n",
    "    query = state[\"query\"]\n",
    "    # find_relevant_sections(query) returns List[str]\n",
    "\n",
    "    \n",
    "    return {\n",
    "        \"messages\": [HumanMessage(content=query)]\n",
    "    }\n",
    "\n",
    "\n",
    "\n",
    "def retrieval_node(state: GraphState) -> GraphState:\n",
    "    query = state[\"query\"]\n",
    "    # find_relevant_sections(query) returns List[str]\n",
    "    section_list = find_relevant_sections(query)\n",
    "\n",
    "    \n",
    "    return {\n",
    "        \"messages\": [SystemMessage(content=section_list)],\n",
    "        \"retrieved_sections\": section_list\n",
    "    }\n",
    "\n",
    "\n",
    "# -------------------------------------------------------------------------\n",
    "# 4. Confirm node using interrupt()\n",
    "# -------------------------------------------------------------------------\n",
    "\n",
    "def confirm_node(state: GraphState) -> Dict[str, Any]:\n",
    "    sections = state[\"retrieved_sections\"]\n",
    "\n",
    "    # 1) Exactly one → skip confirmation\n",
    "    if len(sections) == 1:\n",
    "        return {\n",
    "            \"messages\": [\n",
    "                SystemMessage(content=f\"Only one section found: {sections[0]}. Skipping confirmation.\")\n",
    "            ],\n",
    "            \"retrieved_sections\": sections,\n",
    "            \"goto\": \"full_retrieval\"\n",
    "        }\n",
    "\n",
    "    # 2) None → ask user to rephrase query\n",
    "    if not sections:\n",
    "        new_q = interrupt({\n",
    "            \"prompt\": \"I couldn't find any sections matching your question. Please rephrase or clarify your query.\"\n",
    "        })\n",
    "        return {\n",
    "            \"messages\": [SystemMessage(content=f\"User provided new query: {new_q}\")],\n",
    "            \"query\": new_q,\n",
    "            \"goto\": \"retrieve\"\n",
    "        }\n",
    "\n",
    "    # 3) Multiple → present numbered options\n",
    "    opts = \"\\n\".join(f\"{i+1}. {sec}\" for i, sec in enumerate(sections))\n",
    "    choice = interrupt({\n",
    "        \"prompt\": (\n",
    "            \"I found multiple relevant sections. Please select one by number:\\n\\n\"\n",
    "            f\"{opts}\\n\\nReply with 1, 2, 3, etc.\"\n",
    "        )\n",
    "    })\n",
    "\n",
    "    # validate\n",
    "    try:\n",
    "        idx = int(choice.strip()) - 1\n",
    "        if idx < 0 or idx >= len(sections):\n",
    "            raise ValueError()\n",
    "    except ValueError:\n",
    "        return {\n",
    "            \"messages\": [SystemMessage(content=f\"Invalid choice '{choice}'. Let me try again.\")],\n",
    "            \"goto\": \"confirm\"\n",
    "        }\n",
    "\n",
    "    # valid selection\n",
    "    picked = sections[idx]\n",
    "    return {\n",
    "        \"messages\": [\n",
    "            SystemMessage(content=f\"User selected option {idx+1}: {picked}\")\n",
    "        ],\n",
    "        \"retrieved_sections\": [picked],\n",
    "        \"goto\": \"full_retrieval\"\n",
    "    }\n",
    "\n",
    "# -------------------------------------------------------------------------\n",
    "# 5. Full retrieval node (unchanged)\n",
    "# -------------------------------------------------------------------------\n",
    "def full_retrieval_node(state: GraphState) -> GraphState:\n",
    "    section_list = state[\"retrieved_sections\"]  # This is still List[str]\n",
    "    all_text = []\n",
    "    for sec in section_list:\n",
    "        book, chap = sec.split(\" -> \", 1)\n",
    "        text = book_json[book][chap]\n",
    "        full_ctx.append(f\"Book & Chapter: {sec}\\n{text}\")\n",
    "        \n",
    "    concatenated = \"\\n\".join(all_text)\n",
    "\n",
    "    \n",
    "    return {\n",
    "        \"context\": concatenated,\n",
    "        \"messages\": [SystemMessage(content=\"Fetched full text for all candidate sections.\")]\n",
    "    }\n",
    "\n",
    "\n",
    "# -------------------------------------------------------------------------\n",
    "# 6. Response node (unchanged)\n",
    "# -------------------------------------------------------------------------\n",
    "def response_node(state: GraphState) -> GraphState:\n",
    "    context_text = state[\"context\"]  # Now a big string\n",
    "    query = state[\"query\"]\n",
    "    prompt = (\n",
    "        \"Below are the relevant CFA curriculum sections:\\n\\n\"\n",
    "        f\"{context_text}\\n\\n\"\n",
    "        f\"Question: {query}\\n\\n\"\n",
    "        \"Please answer in a concise, yet complete manner, citing the relevant sections as needed.\"\n",
    "    )\n",
    "    llm_answer = llm.invoke(prompt)\n",
    "\n",
    "    return {\n",
    "        \"response\": llm_answer,\n",
    "        \"messages\": [AIMessage(content=llm_answer)]\n",
    "    }\n"
   ]
  },
  {
   "cell_type": "code",
   "execution_count": null,
   "id": "968ec548-d564-4dda-a125-70fab1dd8a8d",
   "metadata": {},
   "outputs": [],
   "source": []
  },
  {
   "cell_type": "code",
   "execution_count": null,
   "id": "3bd1f73e-b2c8-4f93-abd6-989e068085d6",
   "metadata": {},
   "outputs": [],
   "source": []
  },
  {
   "cell_type": "code",
   "execution_count": null,
   "id": "d85eec45-ae70-45e6-8cd5-481389453f75",
   "metadata": {},
   "outputs": [],
   "source": []
  },
  {
   "cell_type": "code",
   "execution_count": null,
   "id": "354bce94-ff8d-476c-93d2-944945abc218",
   "metadata": {},
   "outputs": [],
   "source": []
  },
  {
   "cell_type": "code",
   "execution_count": 24,
   "id": "007c32e4-c79a-4ceb-a766-fa3166042904",
   "metadata": {},
   "outputs": [
    {
     "data": {
      "image/png": "[encoded data removed]",
      "text/plain": [
       "<langgraph.graph.state.CompiledStateGraph object at 0x3be96d390>"
      ]
     },
     "execution_count": 24,
     "metadata": {},
     "output_type": "execute_result"
    }
   ],
   "source": [
    "graph = (\n",
    "    StateGraph(GraphState)\n",
    "    .add_node(\"retrieve\",       retrieval_node)\n",
    "    .add_node(\"confirm\",        confirm_node)\n",
    "    .add_node(\"full_retrieval\", full_retrieval_node)\n",
    "    .add_node(\"respond\",        response_node)\n",
    "    \n",
    "    .add_edge(START,            \"retrieve\")\n",
    "    .add_edge(\"retrieve\",       \"confirm\")\n",
    "    .add_conditional_edges(\n",
    "        \"confirm\",\n",
    "        path=lambda out: out.get(\"goto\"),\n",
    "        path_map={\"full_retrieval\":\"full_retrieval\",\"retrieve\":\"retrieve\"},\n",
    "    )\n",
    "    .add_edge(\"full_retrieval\", \"respond\")\n",
    "    .add_edge(\"respond\",         END)\n",
    "    .compile()\n",
    ")\n",
    "\n",
    "graph"
   ]
  },
  {
   "cell_type": "code",
   "execution_count": null,
   "id": "305c5ec6-88c1-46c8-abb9-70eeeb385d17",
   "metadata": {},
   "outputs": [],
   "source": []
  },
  {
   "cell_type": "code",
   "execution_count": null,
   "id": "e108c1eb-d4e9-4f94-9a85-de8f098a6532",
   "metadata": {},
   "outputs": [],
   "source": []
  },
  {
   "cell_type": "code",
   "execution_count": null,
   "id": "1a496702-e3be-46f3-9194-a86d0653a043",
   "metadata": {},
   "outputs": [],
   "source": []
  },
  {
   "cell_type": "code",
   "execution_count": null,
   "id": "875ad30a-15c1-4828-8762-1b345db6a73d",
   "metadata": {},
   "outputs": [],
   "source": [
    "# assume `graph` is already defined and compiled as in your notebook\n",
    "\n",
    "while True:\n",
    "    user_query = input(\"You: What is the difference between Venture capital and Private Equity?\")\n",
    "    if user_query.strip().lower() == \"exit\":\n",
    "        print(\"Exiting chat. Goodbye!\")\n",
    "        break\n",
    "\n",
    "    # build the LangGraph input\n",
    "    state = {\"messages\": [{\"role\": \"user\", \"content\": user_query}]}\n",
    "    \n",
    "    # stream the response tokens as they arrive\n",
    "    for msg_chunk, meta in graph.stream(\n",
    "        state,\n",
    "        stream_mode=\"messages\"\n",
    "    ):\n",
    "        print(meta.get(\"langgraph_node\"))\n",
    "        # only print from your 'respond' node\n",
    "        if meta.get(\"langgraph_node\") == \"respond\" and msg_chunk.content:\n",
    "            print(msg_chunk.content, end=\"\", flush=True)\n",
    "    print()  # newline after the full response\n"
   ]
  },
  {
   "cell_type": "code",
   "execution_count": null,
   "id": "add293c2-758a-496a-a128-ea2bc66a114f",
   "metadata": {},
   "outputs": [],
   "source": []
  },
  {
   "cell_type": "code",
   "execution_count": null,
   "id": "75d34c8f-e3cc-48c7-8fb3-8ef70c6ac82d",
   "metadata": {},
   "outputs": [],
   "source": []
  },
  {
   "cell_type": "code",
   "execution_count": null,
   "id": "07152c31-466c-4ee5-a360-56e4e81f7172",
   "metadata": {},
   "outputs": [],
   "source": []
  },
  {
   "cell_type": "code",
   "execution_count": null,
   "id": "cfc53ba7-852f-4bc9-8f7b-5662b13bedc8",
   "metadata": {},
   "outputs": [],
   "source": []
  },
  {
   "cell_type": "code",
   "execution_count": 56,
   "id": "b1bf151b-1601-42ab-9104-e86e0ae87e32",
   "metadata": {},
   "outputs": [
    {
     "data": {
      "text/plain": [
       "['Corporate Issuers -> 4.Modigliani–Miller Capital Structure Propositions']"
      ]
     },
     "execution_count": 56,
     "metadata": {},
     "output_type": "execute_result"
    }
   ],
   "source": [
    "query = \"what is the capital structure of Modigliani–Miller?\"\n",
    "sections = find_relevant_sections(query)\n",
    "sections"
   ]
  },
  {
   "cell_type": "code",
   "execution_count": 65,
   "id": "89506e86-3e6f-44ef-900b-b9194f98aa57",
   "metadata": {},
   "outputs": [],
   "source": [
    "def remove_numbers(text: str) -> str:\n",
    "    return re.sub(r'\\d+', '', text)"
   ]
  },
  {
   "cell_type": "code",
   "execution_count": 66,
   "id": "4a08e289-a51e-495c-9c6d-7b59ba2cf08b",
   "metadata": {},
   "outputs": [
    {
     "data": {
      "text/plain": [
       "'1. Corporate Issuers -> .Modigliani–Miller Capital Structure Propositions'"
      ]
     },
     "execution_count": 66,
     "metadata": {},
     "output_type": "execute_result"
    }
   ],
   "source": [
    "list_text = \"\\n\".join(f\"{i+1}. {remove_numbers(sec)}\" for i, sec in enumerate(sections))\n",
    "list_text"
   ]
  },
  {
   "cell_type": "code",
   "execution_count": 78,
   "id": "c22be07d-501d-4b3b-bd78-b8c364873449",
   "metadata": {},
   "outputs": [
    {
     "name": "stdout",
     "output_type": "stream",
     "text": [
      "The user asked the following question:\n",
      "'what is the capital structure of Modigliani–Miller?'\n",
      "\n",
      "Below is a numbered list of CFA curriculum sections.\n",
      "Your task is to select ONLY the numbers of the sections that are directly and precisely relevant to the question.\n",
      "\n",
      "⚠️ VERY IMPORTANT:\n",
      "- ONLY use section numbers from the list below.\n",
      "- Do NOT make up new sections or topics.\n",
      "- If none of the sections are clearly relevant, reply only with: 'uncertain'.\n",
      "- Your answer must be a comma-separated list of the section numbers only (e.g., '1, 3, 5')\n",
      "\n",
      "Sections:\n",
      "1. Corporate Issuers -> .Modigliani–Miller Capital Structure Propositions\n"
     ]
    }
   ],
   "source": [
    "llm_prompt = (\n",
    "    f\"The user asked the following question:\\n\"\n",
    "    f\"'{query}'\\n\\n\"\n",
    "    \"Below is a numbered list of CFA curriculum sections.\\n\"\n",
    "    \"Your task is to select ONLY the numbers of the sections that are directly and precisely relevant to the question.\\n\\n\"\n",
    "    \"VERY IMPORTANT:\\n\"\n",
    "    \"- ONLY use section numbers from the list below.\\n\"\n",
    "    \"- Do NOT make up new sections or topics.\\n\"\n",
    "    \"- If none of the sections are clearly relevant, reply only with: 'uncertain'.\\n\"\n",
    "    \"- Your answer must be a comma-separated list of the section numbers only (e.g., '1, 3, 5')\\n\\n\"\n",
    "    f\"Sections:\\n{list_text}\"\n",
    ")\n",
    "\n",
    "\n",
    "print(llm_prompt)\n",
    "llm_response = llm.invoke(llm_prompt).strip().lower()"
   ]
  },
  {
   "cell_type": "code",
   "execution_count": 79,
   "id": "bea00a35-2485-4546-acec-f605f865be64",
   "metadata": {},
   "outputs": [
    {
     "data": {
      "text/plain": [
       "'the correct section is 1.\\n\\nuncertain'"
      ]
     },
     "execution_count": 79,
     "metadata": {},
     "output_type": "execute_result"
    }
   ],
   "source": [
    "llm_response"
   ]
  },
  {
   "cell_type": "code",
   "execution_count": 80,
   "id": "9b2a48a6-b2a9-4da5-92b8-1eb01e52cdc5",
   "metadata": {},
   "outputs": [
    {
     "data": {
      "text/plain": [
       "[1]"
      ]
     },
     "execution_count": 80,
     "metadata": {},
     "output_type": "execute_result"
    }
   ],
   "source": [
    "list({int(i) for i in re.findall(\"\\d+\", llm_response)})"
   ]
  },
  {
   "cell_type": "code",
   "execution_count": null,
   "id": "7571f18c-b3f3-42a1-a38b-aa90110e2824",
   "metadata": {},
   "outputs": [],
   "source": []
  }
 ],
 "metadata": {
  "kernelspec": {
   "display_name": "Python 3 (ipykernel)",
   "language": "python",
   "name": "python3"
  },
  "language_info": {
   "codemirror_mode": {
    "name": "ipython",
    "version": 3
   },
   "file_extension": ".py",
   "mimetype": "text/x-python",
   "name": "python",
   "nbconvert_exporter": "python",
   "pygments_lexer": "ipython3",
   "version": "3.11.5"
  }
 },
 "nbformat": 4,
 "nbformat_minor": 5
}
