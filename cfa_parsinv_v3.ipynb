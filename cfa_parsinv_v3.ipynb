{
 "cells": [
  {
   "cell_type": "code",
   "execution_count": 13,
   "id": "cf25c497-4180-4b62-8df7-6ede3a817f89",
   "metadata": {},
   "outputs": [],
   "source": [
    "import os\n",
    "import pandas as pd\n",
    "from bs4 import BeautifulSoup\n",
    "import tqdm\n",
    "import ebooklib\n",
    "from ebooklib import epub\n",
    "import json\n",
    "import re\n",
    "from collections import defaultdict\n",
    "dd = defaultdict"
   ]
  },
  {
   "cell_type": "code",
   "execution_count": null,
   "id": "4268740a-fec6-4021-ace3-b2739b42340f",
   "metadata": {},
   "outputs": [],
   "source": []
  },
  {
   "cell_type": "code",
   "execution_count": null,
   "id": "c15bf0d9-1a86-4b5d-a65e-e7bac8719894",
   "metadata": {},
   "outputs": [],
   "source": []
  },
  {
   "cell_type": "code",
   "execution_count": 114,
   "id": "5b93ca92-b9cf-4269-be3f-94fc551c61dd",
   "metadata": {},
   "outputs": [],
   "source": []
  },
  {
   "cell_type": "code",
   "execution_count": 48,
   "id": "8c5f7a77-a4bc-4e56-bfbd-53b23f004637",
   "metadata": {},
   "outputs": [],
   "source": [
    "def parse_books_and_modules(text: str):\n",
    "    lines = text.strip().split(\"\\n\")\n",
    "    result = defaultdict(list)\n",
    "\n",
    "    current_book = None\n",
    "\n",
    "    for line in lines:\n",
    "        line = line.strip()\n",
    "        if not line:\n",
    "            continue\n",
    "\n",
    "        if line.startswith(\"Book\"):\n",
    "            current_book = line\n",
    "            result[current_book] = []\n",
    "        elif line.startswith(\"Learning Module\") and current_book:\n",
    "            result[current_book].append(line.strip(\"Learning Module \").replace(\":\",\".\"))\n",
    "\n",
    "    return dict(result)"
   ]
  },
  {
   "cell_type": "code",
   "execution_count": 49,
   "id": "b47cbf10-20e5-45a2-825a-c48ac2206ee7",
   "metadata": {},
   "outputs": [],
   "source": [
    "with open(\"book_titles.txt\", \"r\") as f:  # Your full CFA text\n",
    "    text_input = f.read()\n"
   ]
  },
  {
   "cell_type": "code",
   "execution_count": 50,
   "id": "b5460dcb-85c9-4a19-8c21-c6c470e4b21e",
   "metadata": {},
   "outputs": [],
   "source": [
    "books_modules = parse_books_and_modules(text_input)\n"
   ]
  },
  {
   "cell_type": "code",
   "execution_count": 51,
   "id": "088f49b3-f6b0-49b3-9661-aba0189709c8",
   "metadata": {},
   "outputs": [
    {
     "data": {
      "text/plain": [
       "dict_keys(['Book 1: Quantitative Methods', 'Book 2: Economics', 'Book 3: Corporate Issuers', 'Book 4: Financial Statement Analysis', 'Book 5: Equity Investments', 'Book 6: Fixed Income', 'Book 7: Derivatives', 'Book 8: Alternative Investments', 'Book 9: Portfolio Management', 'Book 10: Ethical and Professional Standards'])"
      ]
     },
     "execution_count": 51,
     "metadata": {},
     "output_type": "execute_result"
    }
   ],
   "source": [
    "books_modules.keys()"
   ]
  },
  {
   "cell_type": "code",
   "execution_count": null,
   "id": "1be0b86a-0838-4f5e-a3df-944ae044c4f9",
   "metadata": {},
   "outputs": [],
   "source": []
  },
  {
   "cell_type": "code",
   "execution_count": 54,
   "id": "31b8d02f-cf50-4349-89b6-d3bd3b7755d3",
   "metadata": {},
   "outputs": [],
   "source": [
    "with open(\"cfa2025.json\", \"r\") as file:\n",
    "    book_json = eval(file.read())\n",
    "\n",
    "book_values = {o:f\"Book {i+1}: {o}\" for i,o in enumerate(book_json.keys())}\n",
    "book_json = {book_values[k]:v for k,v in book_json.items()}"
   ]
  },
  {
   "cell_type": "code",
   "execution_count": 10,
   "id": "2061da8e-620d-42b1-bcc3-dd9d6ba899a4",
   "metadata": {},
   "outputs": [],
   "source": []
  },
  {
   "cell_type": "code",
   "execution_count": null,
   "id": "e6988093-93e6-4306-a704-5602c1a6e20b",
   "metadata": {},
   "outputs": [],
   "source": []
  },
  {
   "cell_type": "code",
   "execution_count": 199,
   "id": "09eda26e-1ee1-49e5-9c41-ca5a7769facc",
   "metadata": {},
   "outputs": [],
   "source": [
    "import re\n",
    "\n",
    "def clean_text(text):\n",
    "    # Remove numbers and periods\n",
    "    text = re.sub(r'[\\d\\.]', '', text)\n",
    "    # Replace newlines and multiple spaces with a single space\n",
    "    cleaned = re.sub(r'\\s+', ' ', text)\n",
    "    return cleaned.strip().replace(\"Book : \",\"\")\n"
   ]
  },
  {
   "cell_type": "code",
   "execution_count": 200,
   "id": "ead3a7d6-ecd2-471f-ae37-e57b121a9629",
   "metadata": {},
   "outputs": [],
   "source": [
    "def get_chap_level(x):\n",
    "    x = x.split(\".\")\n",
    "\n",
    "    if x[0].isnumeric():\n",
    "        level1 = int(x[0])\n",
    "        if x[1].isnumeric(): \n",
    "            level2 = int(x[1])\n",
    "            if x[2].isnumeric(): \n",
    "                level3 = int(x[2])\n",
    "                return [level1,level2,level3]\n",
    "            else:\n",
    "                return [level1,level2]\n",
    "        else:\n",
    "            return [level1]\n",
    "    else:\n",
    "        return []"
   ]
  },
  {
   "cell_type": "code",
   "execution_count": null,
   "id": "acd76382-96c1-4e70-a785-9676a779218b",
   "metadata": {},
   "outputs": [],
   "source": []
  },
  {
   "cell_type": "code",
   "execution_count": null,
   "id": "5b321993-cae5-4edc-a957-1303d0f866fc",
   "metadata": {},
   "outputs": [],
   "source": []
  },
  {
   "cell_type": "code",
   "execution_count": null,
   "id": "eaa36230-19a6-484b-b423-94d873b83d6f",
   "metadata": {},
   "outputs": [],
   "source": []
  },
  {
   "cell_type": "code",
   "execution_count": null,
   "id": "2f9b7359-1c97-41d7-ba36-113eb5fa7775",
   "metadata": {},
   "outputs": [],
   "source": []
  },
  {
   "cell_type": "code",
   "execution_count": 245,
   "id": "25171cac-3160-4fe5-8f92-883e1a7350f8",
   "metadata": {},
   "outputs": [],
   "source": [
    "import json\n",
    "from collections.abc import MutableMapping\n",
    "\n",
    "class BookNode(MutableMapping):\n",
    "    def __init__(self, name=\"\", content=None, dad_k=\"\"):\n",
    "        self.name = name\n",
    "        self.content = content\n",
    "        self._children = {}\n",
    "        self.k = 1\n",
    "        self.dad_k = dad_k\n",
    "\n",
    "    def __getitem__(self, key):\n",
    "        return self._children[key]\n",
    "\n",
    "    def __setitem__(self, key, value):\n",
    "        if isinstance(value, BookNode):\n",
    "            self._children[key] = value\n",
    "        else:\n",
    "            # Create a child node with value as content\n",
    "            self._children[key] = BookNode(name=key, content=value)\n",
    "\n",
    "    def __delitem__(self, key):\n",
    "        del self._children[key]\n",
    "\n",
    "    def __iter__(self):\n",
    "        return iter(self._children)\n",
    "\n",
    "    def __len__(self):\n",
    "        return len(self._children)\n",
    "\n",
    "    def to_dict(self, max_levels=2, _level=1):\n",
    "        if _level > max_levels:\n",
    "            return len(self)\n",
    "        return { key: child.to_dict(max_levels, _level + 1)\n",
    "                 for key, child in self._children.items() }\n",
    "\n",
    "    def __repr__(self,max_levels=2):\n",
    "        # Pretty-printed JSON-like representation of the tree structure\n",
    "        return json.dumps(self.to_dict(max_levels=max_levels), indent=4)\n",
    "\n",
    "    def add_child(self, key, name=None, content=None):\n",
    "        \"\"\"\n",
    "        Add a child node under `key`. If `name` is provided, use it as the node's name;\n",
    "        otherwise default to `key`.\n",
    "        Returns the newly created BookNode.\n",
    "        \"\"\"\n",
    "        node_name = name if name is not None else key\n",
    "        current_k = self.k\n",
    "        self.k += 1\n",
    "        key = node_name = f\"{current_k}. {clean_text(node_name)}\"\n",
    "\n",
    "        \n",
    "        node = BookNode(name=node_name, content=content)\n",
    "        self._children[key] = node\n",
    "        return node\n",
    "\n",
    "    def __str__(self):\n",
    "        \"\"\"Return a string representation of the tree path (for debugging).\"\"\"\n",
    "        lines = []\n",
    "        def walk(node, depth):\n",
    "            indent = \"  \" * depth\n",
    "            lines.append(f\"{indent}- {node.name}\")\n",
    "            for child in node._children.values():\n",
    "                walk(child, depth + 1)\n",
    "        walk(self, 0)\n",
    "        return \"\\n\".join(lines)\n",
    "\n",
    "\n",
    "    def flatten_paths(\n",
    "        self,\n",
    "        levels: (3, 4),\n",
    "        _prefix = None,\n",
    "        _depth: int = 1\n",
    "    ):\n",
    "        \"\"\"\n",
    "        Walk the tree and return a list of strings \"Book -> Module -> Chapter -> Subchapter\"\n",
    "        for every node whose depth is in `levels`.  Root is depth=0 so your Book titles are\n",
    "        depth=1, Modules depth=2, chapters depth=3, subchapters depth=4.\n",
    "        \"\"\"\n",
    "        _prefix = _prefix if _prefix else []\n",
    "        paths = []\n",
    "        for key, child in self._children.items():\n",
    "            cur_path = _prefix + [key]\n",
    "            if _depth in levels:\n",
    "                # join only up to this level\n",
    "                paths.append(\" -> \".join(cur_path))\n",
    "            # keep descending\n",
    "            paths.extend(child.flatten_paths(levels, cur_path, _depth + 1))\n",
    "        return paths\n"
   ]
  },
  {
   "cell_type": "code",
   "execution_count": 246,
   "id": "8110a365-ccd8-4410-93eb-42e408018ba2",
   "metadata": {},
   "outputs": [],
   "source": [
    "cfa_book = BookNode(name=\"CFA Book\")\n",
    "\n",
    "for book in book_json.keys():\n",
    "    current_book = cfa_book.add_child(book)\n",
    "    modules = list(books_modules[book])\n",
    "    chapter_list = list(book_json[book].keys())\n",
    "    chapter_content = list(book_json[book].values())\n",
    "    \n",
    "    module_i = 0\n",
    "    previous_chap_level = 20\n",
    "    for k,con in zip(chapter_list,chapter_content):\n",
    "        chap_level = get_chap_level(k)\n",
    "        if not chap_level: continue\n",
    "\n",
    "        if (previous_chap_level > chap_level[0]) and (module_i<len(modules)):\n",
    "            current_module = modules[module_i]\n",
    "            current_module = current_book.add_child(current_module)\n",
    "            # print(modules[module_i])\n",
    "            module_i += 1\n",
    "        \n",
    "        previous_chap_level = chap_level[0]\n",
    "\n",
    "        c1 = c2 = c3 = \"\"\n",
    "        if len(chap_level)==1:\n",
    "            c1 = k\n",
    "            c2 = \"\"\n",
    "            # print(\"=====\"*1,k)\n",
    "            current_c1 = current_module.add_child(k, content=con)\n",
    "\n",
    "        if len(chap_level)==2:\n",
    "            c2 = k\n",
    "            c3 = \"\"\n",
    "            # print(\"=====\"*2,k)\n",
    "            current_c2 = current_c1.add_child(k, content=con)\n",
    "            \n",
    "\n",
    "        if len(chap_level)==3:\n",
    "            c3 = k\n",
    "            # print(\"=====\"*3,k)\n",
    "            current_c3 = current_c2.add_child(k, content=con)\n",
    "        \n",
    "\n",
    "        # if c1 and not c2 and not c3:\n",
    "        #     book_dict[book][module][c1][\"content\"] = book_json[book][k]\n",
    "\n",
    "        \n",
    "    # break\n",
    "    pass        "
   ]
  },
  {
   "cell_type": "code",
   "execution_count": null,
   "id": "909a0b11-a81e-46e9-97c5-a67c7e8747da",
   "metadata": {},
   "outputs": [],
   "source": []
  },
  {
   "cell_type": "code",
   "execution_count": 249,
   "id": "6decea14-9195-43d0-bfb0-d68595dfbe24",
   "metadata": {},
   "outputs": [],
   "source": [
    "flat_sections = cfa_book.flatten_paths(levels=(3, 7))"
   ]
  },
  {
   "cell_type": "code",
   "execution_count": 250,
   "id": "b2b79b39-029f-4186-8985-c7088cf4d291",
   "metadata": {},
   "outputs": [
    {
     "data": {
      "text/plain": [
       "'1. Quantitative Methods -> 1. Rates and Returns -> 1. Interest Rates and Time Value of Money'"
      ]
     },
     "execution_count": 250,
     "metadata": {},
     "output_type": "execute_result"
    }
   ],
   "source": [
    "flat_sections[0] "
   ]
  },
  {
   "cell_type": "code",
   "execution_count": null,
   "id": "38b8a2d5-7395-45fc-93cc-797784b4fe65",
   "metadata": {},
   "outputs": [],
   "source": []
  },
  {
   "cell_type": "code",
   "execution_count": null,
   "id": "ad6b34aa-af06-43f5-8e10-169b44d119cb",
   "metadata": {},
   "outputs": [],
   "source": []
  }
 ],
 "metadata": {
  "kernelspec": {
   "display_name": "Python 3 (ipykernel)",
   "language": "python",
   "name": "python3"
  },
  "language_info": {
   "codemirror_mode": {
    "name": "ipython",
    "version": 3
   },
   "file_extension": ".py",
   "mimetype": "text/x-python",
   "name": "python",
   "nbconvert_exporter": "python",
   "pygments_lexer": "ipython3",
   "version": "3.11.5"
  }
 },
 "nbformat": 4,
 "nbformat_minor": 5
}
