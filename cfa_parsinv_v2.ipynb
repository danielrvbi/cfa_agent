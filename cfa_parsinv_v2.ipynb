{
 "cells": [
  {
   "cell_type": "code",
   "execution_count": 383,
   "id": "cf25c497-4180-4b62-8df7-6ede3a817f89",
   "metadata": {},
   "outputs": [],
   "source": [
    "import os\n",
    "import pandas as pd\n",
    "from bs4 import BeautifulSoup\n",
    "import tqdm\n",
    "import ebooklib\n",
    "from ebooklib import epub\n",
    "import json"
   ]
  },
  {
   "cell_type": "code",
   "execution_count": 189,
   "id": "09eda26e-1ee1-49e5-9c41-ca5a7769facc",
   "metadata": {},
   "outputs": [],
   "source": [
    "import re\n",
    "\n",
    "def clean_text(text):\n",
    "    # Replace newlines and multiple spaces with a single space\n",
    "    cleaned = re.sub(r'\\s+', ' ', text)\n",
    "    return cleaned.strip()"
   ]
  },
  {
   "cell_type": "code",
   "execution_count": 391,
   "id": "5ea9555b-3d50-4fa3-8358-21f5ea36fda4",
   "metadata": {},
   "outputs": [],
   "source": [
    "def extract_subtopics(epub_path):\n",
    "    book = epub.read_epub(f\"cfa_epub/{epub_path}\")\n",
    "    subtopics = []\n",
    "\n",
    "    for item in book.get_items_of_type(ebooklib.ITEM_DOCUMENT):\n",
    "        soup = BeautifulSoup(item.get_content(), 'html.parser')\n",
    "\n",
    "        # Extract headings and their corresponding paragraphs\n",
    "        for heading in soup.find_all(['h1', 'h2', 'h3']):\n",
    "            heading_text = heading.get_text(strip=True)\n",
    "            content = ''\n",
    "            for sibling in heading.find_next_siblings():\n",
    "                if sibling.name and sibling.name.startswith('h'):\n",
    "                    break\n",
    "                if sibling.name == 'p':\n",
    "                    content += sibling.get_text(strip=True) + ' '\n",
    "            if content and heading_text not in ['Learning Outcome', 'Learning Outcomes', '1.Introduction']:\n",
    "                subtopics.append({'title': clean_text(heading_text), 'content': clean_text(content.strip())})\n",
    "\n",
    "    return subtopics\n"
   ]
  },
  {
   "cell_type": "code",
   "execution_count": 392,
   "id": "26d59b50-6c57-40fa-9d23-d0ed3ccef5a9",
   "metadata": {},
   "outputs": [
    {
     "data": {
      "text/plain": [
       "['cfa_2025_L0.ePub',\n",
       " 'cfa_2025_L1.ePub',\n",
       " 'cfa_2025_L2.ePub',\n",
       " 'cfa_2025_L3.ePub',\n",
       " 'cfa_2025_L4.ePub',\n",
       " 'cfa_2025_L5.ePub',\n",
       " 'cfa_2025_L6.ePub',\n",
       " 'cfa_2025_L7.ePub',\n",
       " 'cfa_2025_L8.ePub',\n",
       " 'cfa_2025_L9.ePub']"
      ]
     },
     "execution_count": 392,
     "metadata": {},
     "output_type": "execute_result"
    }
   ],
   "source": [
    "epub_files = sorted(os.listdir(\"cfa_epub/\"))\n",
    "epub_files"
   ]
  },
  {
   "cell_type": "code",
   "execution_count": 393,
   "id": "8403d616-af88-4658-88ae-499ebc19fa5b",
   "metadata": {},
   "outputs": [
    {
     "name": "stderr",
     "output_type": "stream",
     "text": [
      "  0%|                                                                                                                                                               | 0/10 [00:00<?, ?it/s]/Users/danielrubibreton/.local/lib/python3.11/site-packages/ebooklib/epub.py:1395: UserWarning: In the future version we will turn default option ignore_ncx to True.\n",
      "  warnings.warn('In the future version we will turn default option ignore_ncx to True.')\n",
      "/Users/danielrubibreton/.local/lib/python3.11/site-packages/ebooklib/epub.py:1423: FutureWarning: This search incorrectly ignores the root element, and will be fixed in a future version.  If you rely on the current behaviour, change it to './/xmlns:rootfile[@media-type]'\n",
      "  for root_file in tree.findall('//xmlns:rootfile[@media-type]', namespaces={'xmlns': NAMESPACES['CONTAINERNS']}):\n",
      "100%|██████████████████████████████████████████████████████████████████████████████████████████████████████████████████████████████████████████████████████| 10/10 [00:04<00:00,  2.20it/s]"
     ]
    },
    {
     "name": "stdout",
     "output_type": "stream",
     "text": [
      "CPU times: user 4.45 s, sys: 63.2 ms, total: 4.51 s\n",
      "Wall time: 4.56 s\n"
     ]
    },
    {
     "name": "stderr",
     "output_type": "stream",
     "text": [
      "\n"
     ]
    }
   ],
   "source": [
    "%%time\n",
    "\n",
    "subtopics = {\n",
    "    i: extract_subtopics(i) for i in tqdm.tqdm(epub_files)\n",
    "}"
   ]
  },
  {
   "cell_type": "code",
   "execution_count": 394,
   "id": "734383ce-9719-42c5-a9d1-ab05a6327cf0",
   "metadata": {},
   "outputs": [
    {
     "data": {
      "text/plain": [
       "dict_keys(['cfa_2025_L0.ePub', 'cfa_2025_L1.ePub', 'cfa_2025_L2.ePub', 'cfa_2025_L3.ePub', 'cfa_2025_L4.ePub', 'cfa_2025_L5.ePub', 'cfa_2025_L6.ePub', 'cfa_2025_L7.ePub', 'cfa_2025_L8.ePub', 'cfa_2025_L9.ePub'])"
      ]
     },
     "execution_count": 394,
     "metadata": {},
     "output_type": "execute_result"
    }
   ],
   "source": [
    "subtopics.keys()"
   ]
  },
  {
   "cell_type": "code",
   "execution_count": 395,
   "id": "b9fc0931-762b-44f9-af65-099d570d929b",
   "metadata": {},
   "outputs": [
    {
     "data": {
      "text/plain": [
       "{'cfa_2025_L0.ePub': 'Quantitative Methods',\n",
       " 'cfa_2025_L1.ePub': 'Economics',\n",
       " 'cfa_2025_L2.ePub': 'Corporate Issuers',\n",
       " 'cfa_2025_L3.ePub': 'Financial Statement Analysis',\n",
       " 'cfa_2025_L4.ePub': 'Equity Investments',\n",
       " 'cfa_2025_L5.ePub': 'Fixed Income',\n",
       " 'cfa_2025_L6.ePub': 'Derivatives',\n",
       " 'cfa_2025_L7.ePub': 'Alternative Investments',\n",
       " 'cfa_2025_L8.ePub': 'Portfolio Management',\n",
       " 'cfa_2025_L9.ePub': 'Ethical and Professional Standards'}"
      ]
     },
     "execution_count": 395,
     "metadata": {},
     "output_type": "execute_result"
    }
   ],
   "source": [
    "tpcs = { k:([i for i in v[:20] if \n",
    "           ( \"© 2023\" in i['content'] ) or ( \"© 2024\" in i['content'] ) \n",
    "        ])[0]['title'] for k,v in subtopics.items()}\n",
    "\n",
    "tpcs"
   ]
  },
  {
   "cell_type": "code",
   "execution_count": 396,
   "id": "1ba1aad3-e922-4bda-b133-01c7073bd038",
   "metadata": {},
   "outputs": [
    {
     "data": {
      "text/plain": [
       "{'Quantitative Methods': 'cfa_2025_L0.ePub',\n",
       " 'Economics': 'cfa_2025_L1.ePub',\n",
       " 'Corporate Issuers': 'cfa_2025_L2.ePub',\n",
       " 'Financial Statement Analysis': 'cfa_2025_L3.ePub',\n",
       " 'Equity Investments': 'cfa_2025_L4.ePub',\n",
       " 'Fixed Income': 'cfa_2025_L5.ePub',\n",
       " 'Derivatives': 'cfa_2025_L6.ePub',\n",
       " 'Alternative Investments': 'cfa_2025_L7.ePub',\n",
       " 'Portfolio Management': 'cfa_2025_L8.ePub',\n",
       " 'Ethical and Professional Standards': 'cfa_2025_L9.ePub'}"
      ]
     },
     "execution_count": 396,
     "metadata": {},
     "output_type": "execute_result"
    }
   ],
   "source": [
    "{v:k for k,v in tpcs.items()}"
   ]
  },
  {
   "cell_type": "code",
   "execution_count": null,
   "id": "8c72c6f9-1d0b-4107-8041-682aee5b59d9",
   "metadata": {},
   "outputs": [],
   "source": []
  },
  {
   "cell_type": "code",
   "execution_count": 397,
   "id": "ad0489ef-563e-4e68-8501-bb5ec69b6e46",
   "metadata": {},
   "outputs": [],
   "source": [
    "boooks_map = {\n",
    "    k:subtopics[v][\n",
    "                {\n",
    "            'Quantitative Methods': 9,\n",
    "         'Economics': 5,\n",
    "         'Corporate Issuers': 9,\n",
    "         'Financial Statement Analysis': 9,\n",
    "         'Equity Investments': 5,\n",
    "         'Fixed Income': 5,\n",
    "         'Derivatives': 5,\n",
    "         'Alternative Investments': 6,\n",
    "         'Portfolio Management': 5,\n",
    "         'Ethical and Professional Standards': 6,\n",
    "        }[k]+1:]\n",
    "    for v,k in tpcs.items()\n",
    "}"
   ]
  },
  {
   "cell_type": "code",
   "execution_count": 398,
   "id": "8ce6d1a4-6aef-45e5-93d7-cff7224545b4",
   "metadata": {},
   "outputs": [
    {
     "data": {
      "text/plain": [
       "dict_keys(['Quantitative Methods', 'Economics', 'Corporate Issuers', 'Financial Statement Analysis', 'Equity Investments', 'Fixed Income', 'Derivatives', 'Alternative Investments', 'Portfolio Management', 'Ethical and Professional Standards'])"
      ]
     },
     "execution_count": 398,
     "metadata": {},
     "output_type": "execute_result"
    }
   ],
   "source": [
    "nested_dict = {\n",
    "    topic: {\n",
    "        entry[\"title\"]: entry[\"content\"]\n",
    "        for entry in entries\n",
    "    }\n",
    "    for topic, entries in boooks_map.items()\n",
    "}\n",
    "\n",
    "nested_dict.keys()"
   ]
  },
  {
   "cell_type": "code",
   "execution_count": 399,
   "id": "d793d67d-92e2-431a-9376-98dfe3996f13",
   "metadata": {},
   "outputs": [],
   "source": [
    "# save to a file\n",
    "with open(\"cfa2025.json\", \"w\", encoding=\"utf-8\") as f:\n",
    "    json.dump(nested_dict, f, ensure_ascii=False, indent=4)"
   ]
  },
  {
   "cell_type": "code",
   "execution_count": 400,
   "id": "0bb11973-1ae1-4524-9738-da6d7dba1042",
   "metadata": {},
   "outputs": [
    {
     "name": "stdout",
     "output_type": "stream",
     "text": [
      "{'Quantitative Methods': {'2.Interest Rates and Time Value of Money': 'The time value of money establishes the equivalence between cash flows occurring on different dates. As cash received today is preferred to cash promised in the future, we must establish a consistent basis for this trade-off to compare financial instruments in cases in which cash is paid or received at different times. Aninterest rate(or yield), denotedr, is a rate of return that reflects the relationship between differently dated – timed – cash flows. If USD 9,500 today and USD 10,000 in one year are equivalent in value, then USD 10,000 – USD 9,500 = USD 500 is the required compensation for receiving USD 10,000 in one year rather than now. The interest rate (i.e., the required compensation stated as a rate of return) is USD 500/USD 9,500 = 0.0526 or 5.26 percent. Interest rates can be thought of in three ways:', '2.1.Determinants of Interest Rates': 'Economics tells us that interest rates are set by the forces of s\n"
     ]
    }
   ],
   "source": [
    "print(str(nested_dict)[:1000])"
   ]
  },
  {
   "cell_type": "code",
   "execution_count": null,
   "id": "5d14e96b-0ba3-46b2-ada0-5c43d2229f77",
   "metadata": {},
   "outputs": [],
   "source": []
  },
  {
   "cell_type": "code",
   "execution_count": null,
   "id": "31b8d02f-cf50-4349-89b6-d3bd3b7755d3",
   "metadata": {},
   "outputs": [],
   "source": []
  },
  {
   "cell_type": "code",
   "execution_count": null,
   "id": "87376cfa-cf9b-44ec-a5b1-fc893193680a",
   "metadata": {},
   "outputs": [],
   "source": []
  },
  {
   "cell_type": "code",
   "execution_count": null,
   "id": "2061da8e-620d-42b1-bcc3-dd9d6ba899a4",
   "metadata": {},
   "outputs": [],
   "source": []
  },
  {
   "cell_type": "code",
   "execution_count": null,
   "id": "ead3a7d6-ecd2-471f-ae37-e57b121a9629",
   "metadata": {},
   "outputs": [],
   "source": []
  },
  {
   "cell_type": "code",
   "execution_count": null,
   "id": "8110a365-ccd8-4410-93eb-42e408018ba2",
   "metadata": {},
   "outputs": [],
   "source": []
  },
  {
   "cell_type": "code",
   "execution_count": null,
   "id": "38b8a2d5-7395-45fc-93cc-797784b4fe65",
   "metadata": {},
   "outputs": [],
   "source": []
  },
  {
   "cell_type": "code",
   "execution_count": null,
   "id": "ad6b34aa-af06-43f5-8e10-169b44d119cb",
   "metadata": {},
   "outputs": [],
   "source": []
  }
 ],
 "metadata": {
  "kernelspec": {
   "display_name": "Python 3 (ipykernel)",
   "language": "python",
   "name": "python3"
  },
  "language_info": {
   "codemirror_mode": {
    "name": "ipython",
    "version": 3
   },
   "file_extension": ".py",
   "mimetype": "text/x-python",
   "name": "python",
   "nbconvert_exporter": "python",
   "pygments_lexer": "ipython3",
   "version": "3.11.5"
  }
 },
 "nbformat": 4,
 "nbformat_minor": 5
}
